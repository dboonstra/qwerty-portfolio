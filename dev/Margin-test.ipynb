{
 "cells": [
  {
   "cell_type": "code",
   "execution_count": 1,
   "metadata": {},
   "outputs": [],
   "source": [
    "import sys\n",
    "sys.path.insert(0,'src')\n",
    "sys.path.insert(0,'../src')\n"
   ]
  },
  {
   "cell_type": "markdown",
   "metadata": {},
   "source": [
    "Instantiate PortfolioManager:\n",
    "\n"
   ]
  },
  {
   "cell_type": "code",
   "execution_count": 2,
   "metadata": {},
   "outputs": [
    {
     "name": "stdout",
     "output_type": "stream",
     "text": [
      "Getting positions from broker API\n"
     ]
    }
   ],
   "source": [
    "from qwertyfolio.core import PortfolioManager\n",
    "from qwertyfolio.brokerage import OurBroker\n",
    "# ... other imports\n",
    "\n",
    "broker = OurBroker()\n",
    "portfolio_manager = PortfolioManager(brokerage=broker, use_brokerage_holdings=True, new_portfolio=True)\n"
   ]
  },
  {
   "cell_type": "markdown",
   "metadata": {},
   "source": [
    "Instantiate MarginCalculator:\n",
    "\n"
   ]
  },
  {
   "cell_type": "code",
   "execution_count": 3,
   "metadata": {},
   "outputs": [],
   "source": [
    "from qwertyfolio.margin_calculator import MarginCalculator  # Assuming you save the code as margin_calculator.py\n",
    "margin_calculator = MarginCalculator(portfolio_manager)\n"
   ]
  },
  {
   "cell_type": "markdown",
   "metadata": {},
   "source": [
    "Get Current Prices (Example):\n",
    "\n"
   ]
  },
  {
   "cell_type": "code",
   "execution_count": 4,
   "metadata": {},
   "outputs": [],
   "source": [
    "current_prices = {\n",
    "    \"AAPL\": 150.0,\n",
    "    \"SPY\": 450.0,\n",
    "    \"SPY   250404C00450000\": 10.0,\n",
    "    \"SPY   250404P00400000\": 5.0,\n",
    "    \"DELL\": 100.0\n",
    "    # ... add more symbols and prices\n",
    "}\n",
    "# add in broker quotes\n",
    "current_prices.update(broker.get_quotes(list(current_prices.keys())))\n"
   ]
  },
  {
   "cell_type": "markdown",
   "metadata": {},
   "source": [
    "Calculate and Print Margin Details:\n",
    "\n"
   ]
  },
  {
   "cell_type": "code",
   "execution_count": 5,
   "metadata": {},
   "outputs": [
    {
     "name": "stdout",
     "output_type": "stream",
     "text": [
      "____ Margin Requirements ____\n",
      "# Margin Details\n",
      "+----+----------+------------+---------+----------------------+\n",
      "|    | symbol   |   quantity |   Price |   Margin Requirement |\n",
      "|----+----------+------------+---------+----------------------|\n",
      "|  0 | DELL     |         42 |     100 |                 2100 |\n",
      "+----+----------+------------+---------+----------------------+\n",
      "\n",
      "Total Margin Requirement: 2100.00\n",
      "Total Margin Requirement: 2100.0\n"
     ]
    }
   ],
   "source": [
    "margin_calculator.print_margin_details(current_prices)\n",
    "total_margin = margin_calculator.calculate_total_margin_requirement(current_prices)\n",
    "print(f\"Total Margin Requirement: {total_margin}\")\n"
   ]
  },
  {
   "cell_type": "markdown",
   "metadata": {},
   "source": [
    "Calculate and Print Margin Details:\n",
    "\n"
   ]
  },
  {
   "cell_type": "code",
   "execution_count": 6,
   "metadata": {},
   "outputs": [
    {
     "name": "stdout",
     "output_type": "stream",
     "text": [
      "____ Margin Requirements ____\n",
      "# Margin Details\n",
      "+----+----------+------------+---------+----------------------+\n",
      "|    | symbol   |   quantity |   Price |   Margin Requirement |\n",
      "|----+----------+------------+---------+----------------------|\n",
      "|  0 | DELL     |         42 |     100 |                 2100 |\n",
      "+----+----------+------------+---------+----------------------+\n",
      "\n",
      "Total Margin Requirement: 2100.00\n"
     ]
    }
   ],
   "source": [
    "margin_calculator.print_margin_details(current_prices)\n"
   ]
  }
 ],
 "metadata": {
  "kernelspec": {
   "display_name": "base",
   "language": "python",
   "name": "python3"
  },
  "language_info": {
   "codemirror_mode": {
    "name": "ipython",
    "version": 3
   },
   "file_extension": ".py",
   "mimetype": "text/x-python",
   "name": "python",
   "nbconvert_exporter": "python",
   "pygments_lexer": "ipython3",
   "version": "3.12.7"
  }
 },
 "nbformat": 4,
 "nbformat_minor": 2
}
