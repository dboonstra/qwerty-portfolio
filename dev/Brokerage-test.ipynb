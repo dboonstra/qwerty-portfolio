{
 "cells": [
  {
   "cell_type": "code",
   "execution_count": 1,
   "metadata": {},
   "outputs": [],
   "source": [
    "import os\n",
    "import sys\n",
    "\n",
    "sys.path.insert(0,'src')\n",
    "sys.path.insert(0,'../src')\n",
    "\n",
    "from qwertyfolio import Asset, Transaction, PortfolioManager\n",
    "from qwertyfolio.brokerage import MyBroker"
   ]
  },
  {
   "cell_type": "markdown",
   "metadata": {},
   "source": [
    "### setup\n",
    "define data files and clear data for new portfolio"
   ]
  },
  {
   "cell_type": "code",
   "execution_count": 2,
   "metadata": {},
   "outputs": [
    {
     "name": "stdout",
     "output_type": "stream",
     "text": [
      "Getting positions from broker API\n",
      "BROKER_API: getting positions\n"
     ]
    }
   ],
   "source": [
    "port_file = 'portfolio.json'\n",
    "transaction_file = 'transaction_log.csv' \n",
    "brokerage_stub = MyBroker()\n",
    "portfolio = PortfolioManager(\n",
    "    port_file, \n",
    "    transaction_file,\n",
    "    brokerage=brokerage_stub,\n",
    "    use_brokerage_holdings=True,\n",
    "    use_brokerage_transactions=True\n",
    "    )\n",
    "portfolio.clear_log()\n",
    "portfolio.update_cash_balance(500000)\n"
   ]
  },
  {
   "cell_type": "markdown",
   "metadata": {},
   "source": [
    "## define transactions to test \n",
    "exported from a spreadsheet as csv, then mutated to structure ...\n",
    "{ date: [ { tx_data: dict }, ... ]}\n",
    "``"
   ]
  },
  {
   "cell_type": "code",
   "execution_count": 3,
   "metadata": {},
   "outputs": [],
   "source": [
    "expected_result = 4800\n",
    "trades: dict[str:list[dict]] = {\n",
    "    \"2024-12-12 10:00:00\": [\n",
    "        {\n",
    "            \"symbol\": \"XYZ\",\n",
    "            \"quantity\": 120,\n",
    "            \"price\": 100\n",
    "        },\n",
    "    ],\n",
    "    \"2024-12-20 10:00:00\": [\n",
    "        {\n",
    "            \"symbol\": \"XYZ\",\n",
    "            \"quantity\": 120,\n",
    "            \"price\": 80\n",
    "        },\n",
    "    ]\n",
    "}\n"
   ]
  },
  {
   "cell_type": "code",
   "execution_count": 4,
   "metadata": {},
   "outputs": [
    {
     "name": "stdout",
     "output_type": "stream",
     "text": [
      "BROKER_API: XYZ Buy to Open 100 120\n",
      "BROKER_API: says OK\n",
      "BROKER_API: XYZ Buy to Open 80 120\n",
      "BROKER_API: says OK\n",
      "____ Current Portfolio ____\n",
      "Cash Balance: $478400.00\n",
      "+----+----------+------------+---------+----------------------+--------------+---------------------+--------------+----------------------+--------------+----------------+---------+---------+---------+----------------------------+--------------+-----------+--------------+\n",
      "|    | symbol   |   quantity |   price |   average_open_price | asset_type   | underlying_symbol   |   multiplier | days_to_expiration   | expires_at   | strike_price   | delta   | gamma   | theta   | quote_date                 | order_type   |   chainid |   roll_count |\n",
      "|----+----------+------------+---------+----------------------+--------------+---------------------+--------------+----------------------+--------------+----------------+---------+---------+---------+----------------------------+--------------+-----------+--------------|\n",
      "|  0 | XYZ      |        240 |    78.4 |                   90 | S            | XYZ                 |            1 |                      |              |                |         |         |         | 2025-03-17T16:08:42.677786 | Buy to Open  |         6 |            0 |\n",
      "+----+----------+------------+---------+----------------------+--------------+---------------------+--------------+----------------------+--------------+----------------+---------+---------+---------+----------------------------+--------------+-----------+--------------+\n",
      "\n"
     ]
    },
    {
     "data": {
      "text/plain": [
       "4800.0"
      ]
     },
     "execution_count": 4,
     "metadata": {},
     "output_type": "execute_result"
    }
   ],
   "source": [
    "for date in trades.keys():\n",
    "    legs = [ Asset(**adict)  for adict in trades[date] ]\n",
    "    tx = Transaction(timestamp=date, legs=legs)\n",
    "    # print(tx)\n",
    "    if date == '2024-12-12 10:00:00':\n",
    "        portfolio.execute_open(tx)\n",
    "    elif date == '2025-02-21 10:00:00':\n",
    "        portfolio.execute_close(tx)\n",
    "    else:\n",
    "        portfolio.execute_transaction(tx)\n",
    "\n",
    "\n",
    "portfolio.print_portfolio()\n",
    "pnl: float = portfolio.calculate_pnl({\"XYZ\": 110})\n",
    "\n",
    "pnl\n"
   ]
  }
 ],
 "metadata": {
  "kernelspec": {
   "display_name": "base",
   "language": "python",
   "name": "python3"
  },
  "language_info": {
   "codemirror_mode": {
    "name": "ipython",
    "version": 3
   },
   "file_extension": ".py",
   "mimetype": "text/x-python",
   "name": "python",
   "nbconvert_exporter": "python",
   "pygments_lexer": "ipython3",
   "version": "3.12.7"
  }
 },
 "nbformat": 4,
 "nbformat_minor": 2
}
